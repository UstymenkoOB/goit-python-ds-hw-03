{
 "cells": [
  {
   "cell_type": "markdown",
   "id": "2bba2717-3f37-49f8-8b96-d5e14404621c",
   "metadata": {},
   "source": [
    "# Дамошнє завдання №3"
   ]
  },
  {
   "cell_type": "code",
   "execution_count": 1,
   "id": "24394285-ddc6-4e9f-bacd-96d4037ebe4d",
   "metadata": {
    "tags": []
   },
   "outputs": [],
   "source": [
    "import numpy as np\n",
    "import matplotlib.pyplot as plt\n",
    "import pandas as pd"
   ]
  },
  {
   "cell_type": "markdown",
   "id": "557342ff-a979-4088-9ab5-c04298034f49",
   "metadata": {},
   "source": [
    "## Функція гіпотези лінійної регресії у векторному вигляді"
   ]
  },
  {
   "cell_type": "code",
   "execution_count": 2,
   "id": "2b0e33f8-feb7-41e9-9e3d-345361f4c39c",
   "metadata": {},
   "outputs": [],
   "source": [
    "def hypothesis(X, w):\n",
    "    return np.dot(X, w)"
   ]
  },
  {
   "cell_type": "markdown",
   "id": "602c9c18-78aa-4500-a3f7-5f44151185ea",
   "metadata": {},
   "source": [
    "## Функція для обчислення функції втрат у векторному вигляді (Mean Squared Error)"
   ]
  },
  {
   "cell_type": "code",
   "execution_count": 3,
   "id": "4f70eedf-c640-4dbb-85b4-dd65cf9e1edd",
   "metadata": {},
   "outputs": [],
   "source": [
    "def compute_loss(X, y, w):\n",
    "    m = len(y)\n",
    "    predictions = hypothesis(X, w)\n",
    "    loss = np.sum((predictions - y)**2) / (2 * m)\n",
    "    return loss"
   ]
  },
  {
   "cell_type": "markdown",
   "id": "34db065d-89cc-452f-8501-8a217399fcf9",
   "metadata": {},
   "source": [
    "## Реалізація одного кроку градієнтного спуску"
   ]
  },
  {
   "cell_type": "code",
   "execution_count": 4,
   "id": "fe174da2-5975-42a4-a490-36ae2b3446f9",
   "metadata": {},
   "outputs": [],
   "source": [
    "def gradient_descent_step(X, y, w, learning_rate):\n",
    "    m = len(y)\n",
    "    predictions = hypothesis(X, w)\n",
    "    errors = predictions - y\n",
    "    gradient = np.dot(X.T, errors) / m\n",
    "    w = w - learning_rate * gradient\n",
    "    return w"
   ]
  },
  {
   "cell_type": "markdown",
   "id": "696d0a27-2469-4680-8819-7d7a15373b89",
   "metadata": {},
   "source": [
    "## Знаходження найкращих параметрів w за допомогою градієнтного спуску"
   ]
  },
  {
   "cell_type": "code",
   "execution_count": 5,
   "id": "fe19f3eb-1bff-48cb-a758-bc729fc79b90",
   "metadata": {},
   "outputs": [],
   "source": [
    "def gradient_descent(X, y, w, learning_rate, num_iterations):\n",
    "    for i in range(num_iterations):\n",
    "        w = gradient_descent_step(X, y, w, learning_rate)\n",
    "        if i % 100 == 0:\n",
    "            print(f'Iteration {i}, Loss: {compute_loss(X, y, w)}')\n",
    "    return w"
   ]
  },
  {
   "cell_type": "markdown",
   "id": "7b797e61-96bb-41bf-9ffe-eecc34a7fc6e",
   "metadata": {},
   "source": [
    "## Знаходження параметрів w за допомогою аналітичного рішення"
   ]
  },
  {
   "cell_type": "code",
   "execution_count": 6,
   "id": "25811ddc-48d5-497b-accc-334ec277189c",
   "metadata": {},
   "outputs": [],
   "source": [
    "def analytical_solution(X, y):\n",
    "    w = np.linalg.inv(X.T @ X) @ X.T @ y\n",
    "    return w"
   ]
  },
  {
   "cell_type": "markdown",
   "id": "57bba9f4-7325-4181-bf0c-6ad97a9b272d",
   "metadata": {},
   "source": [
    "## Порівняння результатів"
   ]
  },
  {
   "cell_type": "code",
   "execution_count": 7,
   "id": "c9797285-6e10-42d2-a0d9-19d9bf197705",
   "metadata": {},
   "outputs": [],
   "source": [
    "def compare_results(X, y, learning_rate, num_iterations):\n",
    "    \n",
    "    num_features = X.shape[1]\n",
    "    w_initial = np.zeros((num_features, 1))\n",
    "\n",
    "    w_gradient_descent = gradient_descent(X, y, w_initial, learning_rate, num_iterations)\n",
    "    w_analytical_solution = analytical_solution(X, y)\n",
    "\n",
    "    print(f'Parameters found by Gradient Descent: {w_gradient_descent}')\n",
    "    print(f'Parameters found by Analytical Solution: {w_analytical_solution}')\n",
    "\n",
    "    loss_gradient_descent = compute_loss(X, y, w_gradient_descent)\n",
    "    loss_analytical_solution = compute_loss(X, y, w_analytical_solution)\n",
    "\n",
    "    print(f'Loss (Gradient Descent): {loss_gradient_descent}')\n",
    "    print(f'Loss (Analytical Solution): {loss_analytical_solution}')"
   ]
  },
  {
   "cell_type": "markdown",
   "id": "f6277142-a5bb-47cf-8c45-9d80f56b3ff4",
   "metadata": {},
   "source": [
    "## Реалізація задачі"
   ]
  },
  {
   "cell_type": "code",
   "execution_count": 12,
   "id": "1c359623-7948-493a-96ed-4bc3838abcdd",
   "metadata": {
    "tags": []
   },
   "outputs": [
    {
     "name": "stdout",
     "output_type": "stream",
     "text": [
      "      price  area  bedrooms  bathrooms  stories mainroad guestroom basement  \\\n",
      "0  13300000  7420         4          2        3      yes        no       no   \n",
      "1  12250000  8960         4          4        4      yes        no       no   \n",
      "2  12250000  9960         3          2        2      yes        no      yes   \n",
      "3  12215000  7500         4          2        2      yes        no      yes   \n",
      "4  11410000  7420         4          1        2      yes       yes      yes   \n",
      "\n",
      "  hotwaterheating airconditioning  parking prefarea furnishingstatus  \n",
      "0              no             yes        2      yes        furnished  \n",
      "1              no             yes        3       no        furnished  \n",
      "2              no              no        2      yes   semi-furnished  \n",
      "3              no             yes        3      yes        furnished  \n",
      "4              no             yes        2       no        furnished  \n",
      "Iteration 0, Loss: 1.1150457512586441e+24\n",
      "Parameters found by Gradient Descent: [[2.67229201e+08]\n",
      " [1.46390263e+05]\n",
      " [6.61666767e+04]\n",
      " [4.76672925e+04]]\n",
      "Parameters found by Analytical Solution: [[ 3.78762754e+02]\n",
      " [ 4.06820034e+05]\n",
      " [ 1.38604950e+06]\n",
      " [-1.73171608e+05]]\n",
      "Loss (Gradient Descent): 1.1150457512586441e+24\n",
      "Loss (Analytical Solution): 895585024988.6597\n"
     ]
    }
   ],
   "source": [
    "df = pd.read_csv('housing.csv')\n",
    "\n",
    "print(df.head())\n",
    "\n",
    "X = df[['area', 'bedrooms', 'bathrooms']].copy()  \n",
    "X['bias'] = 1  \n",
    "\n",
    "y = df['price'].values.reshape(-1, 1)\n",
    "\n",
    "num_iterations = 1\n",
    "learning_rate = 0.01\n",
    "\n",
    "compare_results(X.values, y, learning_rate, num_iterations)"
   ]
  },
  {
   "cell_type": "code",
   "execution_count": null,
   "id": "97c2d528-a160-4080-a6ec-87f1a8063126",
   "metadata": {},
   "outputs": [],
   "source": []
  }
 ],
 "metadata": {
  "kernelspec": {
   "display_name": "Python 3 (ipykernel)",
   "language": "python",
   "name": "python3"
  },
  "language_info": {
   "codemirror_mode": {
    "name": "ipython",
    "version": 3
   },
   "file_extension": ".py",
   "mimetype": "text/x-python",
   "name": "python",
   "nbconvert_exporter": "python",
   "pygments_lexer": "ipython3",
   "version": "3.11.5"
  }
 },
 "nbformat": 4,
 "nbformat_minor": 5
}
